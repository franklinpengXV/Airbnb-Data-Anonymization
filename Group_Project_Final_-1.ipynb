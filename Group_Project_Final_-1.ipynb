{
 "cells": [
  {
   "cell_type": "markdown",
   "metadata": {},
   "source": [
    "# DS310 Group_Project Optional 1\n",
    "#### By Zekun Peng and Cong Ma"
   ]
  },
  {
   "cell_type": "code",
   "execution_count": 1,
   "metadata": {},
   "outputs": [],
   "source": [
    "# data analysis, splitting and wrangling\n",
    "import pandas as pd\n",
    "import numpy as np\n",
    "from scipy import stats\n",
    "import unicodecsv as csv\n",
    "\n",
    "\n",
    "# visualization\n",
    "import matplotlib.pyplot as plt\n",
    "%matplotlib inline\n",
    "\n",
    "# remove warning\n",
    "import warnings\n",
    "warnings.filterwarnings('ignore')"
   ]
  },
  {
   "cell_type": "code",
   "execution_count": 2,
   "metadata": {},
   "outputs": [],
   "source": [
    "data = pd.read_csv(\"C:/Users/Owner/Desktop/DS300/AB_NYC_2019.csv\") \n",
    "df= data.copy()"
   ]
  },
  {
   "cell_type": "markdown",
   "metadata": {},
   "source": [
    "# Dataset analysis"
   ]
  },
  {
   "cell_type": "markdown",
   "metadata": {},
   "source": [
    "First We Take a look about the data information and try to analysis it. \n",
    "* By using the ```df.info()```, we are able to list all the column name and identify the type of information of each column. "
   ]
  },
  {
   "cell_type": "code",
   "execution_count": 3,
   "metadata": {},
   "outputs": [
    {
     "name": "stdout",
     "output_type": "stream",
     "text": [
      "<class 'pandas.core.frame.DataFrame'>\n",
      "RangeIndex: 48895 entries, 0 to 48894\n",
      "Data columns (total 16 columns):\n",
      "id                                48895 non-null int64\n",
      "name                              48879 non-null object\n",
      "host_id                           48895 non-null int64\n",
      "host_name                         48874 non-null object\n",
      "neighbourhood_group               48895 non-null object\n",
      "neighbourhood                     48895 non-null object\n",
      "latitude                          48895 non-null float64\n",
      "longitude                         48895 non-null float64\n",
      "room_type                         48895 non-null object\n",
      "price                             48895 non-null int64\n",
      "minimum_nights                    48895 non-null int64\n",
      "number_of_reviews                 48895 non-null int64\n",
      "last_review                       38843 non-null object\n",
      "reviews_per_month                 38843 non-null float64\n",
      "calculated_host_listings_count    48895 non-null int64\n",
      "availability_365                  48895 non-null int64\n",
      "dtypes: float64(3), int64(7), object(6)\n",
      "memory usage: 6.0+ MB\n"
     ]
    }
   ],
   "source": [
    "df.info()"
   ]
  },
  {
   "cell_type": "markdown",
   "metadata": {},
   "source": [
    "As the information shows above, there are **6 string column**\n",
    "* **String column**: ```{name, host_name, neighbourhood_group, neighbourhood, room_type, last_review}```\n",
    "\n",
    "there are **10 numeric column, 3 using float and 7 using integer.**\n",
    "* **Integer column**: ```{id, host_id, price, minimum_nights, number_of_reviews,calculated_host_listings_count,availability_365}```\n",
    "* **float Column**: ```{latitude, longitude, reviews_per_month}```"
   ]
  },
  {
   "cell_type": "markdown",
   "metadata": {},
   "source": [
    "### present the basic descriptives"
   ]
  },
  {
   "cell_type": "markdown",
   "metadata": {},
   "source": [
    "By using Pandas ```Dataframe.describe()``` method, we are able to show some basic statistical details like **percentile, mean, std etc.** of numeric values columns. But first we need to carefully select the column to make sure every **statistical** we generate form the column is **meaningful**. \n",
    "* Thus we want to train the data that are **qulitative** and **discrete**. \n",
    "* which includes columns：```{\"price\", \"minimum_nights\", \"number_of_reviews\", \"reviews_per_month\", \"calculated_host_listings_count\", \"availability_365\"}```\n",
    "* ```{longitude, latitude}``` are consider the **ratio** and **dementional**, Hence are not using in the data."
   ]
  },
  {
   "cell_type": "code",
   "execution_count": 4,
   "metadata": {},
   "outputs": [
    {
     "data": {
      "text/html": [
       "<div>\n",
       "<style scoped>\n",
       "    .dataframe tbody tr th:only-of-type {\n",
       "        vertical-align: middle;\n",
       "    }\n",
       "\n",
       "    .dataframe tbody tr th {\n",
       "        vertical-align: top;\n",
       "    }\n",
       "\n",
       "    .dataframe thead th {\n",
       "        text-align: right;\n",
       "    }\n",
       "</style>\n",
       "<table border=\"1\" class=\"dataframe\">\n",
       "  <thead>\n",
       "    <tr style=\"text-align: right;\">\n",
       "      <th></th>\n",
       "      <th>price</th>\n",
       "      <th>minimum_nights</th>\n",
       "      <th>number_of_reviews</th>\n",
       "      <th>reviews_per_month</th>\n",
       "      <th>calculated_host_listings_count</th>\n",
       "      <th>availability_365</th>\n",
       "    </tr>\n",
       "  </thead>\n",
       "  <tbody>\n",
       "    <tr>\n",
       "      <th>count</th>\n",
       "      <td>48895.000000</td>\n",
       "      <td>48895.000000</td>\n",
       "      <td>48895.000000</td>\n",
       "      <td>38843.000000</td>\n",
       "      <td>48895.000000</td>\n",
       "      <td>48895.000000</td>\n",
       "    </tr>\n",
       "    <tr>\n",
       "      <th>mean</th>\n",
       "      <td>152.720687</td>\n",
       "      <td>7.029962</td>\n",
       "      <td>23.274466</td>\n",
       "      <td>1.373221</td>\n",
       "      <td>7.143982</td>\n",
       "      <td>112.781327</td>\n",
       "    </tr>\n",
       "    <tr>\n",
       "      <th>std</th>\n",
       "      <td>240.154170</td>\n",
       "      <td>20.510550</td>\n",
       "      <td>44.550582</td>\n",
       "      <td>1.680442</td>\n",
       "      <td>32.952519</td>\n",
       "      <td>131.622289</td>\n",
       "    </tr>\n",
       "    <tr>\n",
       "      <th>min</th>\n",
       "      <td>0.000000</td>\n",
       "      <td>1.000000</td>\n",
       "      <td>0.000000</td>\n",
       "      <td>0.010000</td>\n",
       "      <td>1.000000</td>\n",
       "      <td>0.000000</td>\n",
       "    </tr>\n",
       "    <tr>\n",
       "      <th>25%</th>\n",
       "      <td>69.000000</td>\n",
       "      <td>1.000000</td>\n",
       "      <td>1.000000</td>\n",
       "      <td>0.190000</td>\n",
       "      <td>1.000000</td>\n",
       "      <td>0.000000</td>\n",
       "    </tr>\n",
       "    <tr>\n",
       "      <th>50%</th>\n",
       "      <td>106.000000</td>\n",
       "      <td>3.000000</td>\n",
       "      <td>5.000000</td>\n",
       "      <td>0.720000</td>\n",
       "      <td>1.000000</td>\n",
       "      <td>45.000000</td>\n",
       "    </tr>\n",
       "    <tr>\n",
       "      <th>75%</th>\n",
       "      <td>175.000000</td>\n",
       "      <td>5.000000</td>\n",
       "      <td>24.000000</td>\n",
       "      <td>2.020000</td>\n",
       "      <td>2.000000</td>\n",
       "      <td>227.000000</td>\n",
       "    </tr>\n",
       "    <tr>\n",
       "      <th>max</th>\n",
       "      <td>10000.000000</td>\n",
       "      <td>1250.000000</td>\n",
       "      <td>629.000000</td>\n",
       "      <td>58.500000</td>\n",
       "      <td>327.000000</td>\n",
       "      <td>365.000000</td>\n",
       "    </tr>\n",
       "  </tbody>\n",
       "</table>\n",
       "</div>"
      ],
      "text/plain": [
       "              price  minimum_nights  number_of_reviews  reviews_per_month  \\\n",
       "count  48895.000000    48895.000000       48895.000000       38843.000000   \n",
       "mean     152.720687        7.029962          23.274466           1.373221   \n",
       "std      240.154170       20.510550          44.550582           1.680442   \n",
       "min        0.000000        1.000000           0.000000           0.010000   \n",
       "25%       69.000000        1.000000           1.000000           0.190000   \n",
       "50%      106.000000        3.000000           5.000000           0.720000   \n",
       "75%      175.000000        5.000000          24.000000           2.020000   \n",
       "max    10000.000000     1250.000000         629.000000          58.500000   \n",
       "\n",
       "       calculated_host_listings_count  availability_365  \n",
       "count                    48895.000000      48895.000000  \n",
       "mean                         7.143982        112.781327  \n",
       "std                         32.952519        131.622289  \n",
       "min                          1.000000          0.000000  \n",
       "25%                          1.000000          0.000000  \n",
       "50%                          1.000000         45.000000  \n",
       "75%                          2.000000        227.000000  \n",
       "max                        327.000000        365.000000  "
      ]
     },
     "execution_count": 4,
     "metadata": {},
     "output_type": "execute_result"
    }
   ],
   "source": [
    "df[[\"price\",\"minimum_nights\",\"number_of_reviews\",\"reviews_per_month\",\n",
    "    \"calculated_host_listings_count\",\"availability_365\"]].describe()"
   ]
  },
  {
   "cell_type": "markdown",
   "metadata": {},
   "source": [
    "For this project, our **main goal** is to <u>release an anonymization data that prevent personal information leaks and able to help others **understand the true quality of each rentals.**</u>\n",
    "* After discussion we would like to keep the **data untility** of column ```{\"price\", \"minimum_nights\", \"number_of_reviews\", \"availability_365\"}```, since these column contain the **information that relevant to needs for the intended prediction** of the room general quality.\n",
    "* Also base on the information we have above we rise another quesiton: Why is ```availability_365``` column have more than **25% of 0 value element**. We decide to take a deeper analysis on this column."
   ]
  },
  {
   "cell_type": "code",
   "execution_count": 5,
   "metadata": {},
   "outputs": [
    {
     "data": {
      "text/plain": [
       "(17533, 16)"
      ]
     },
     "execution_count": 5,
     "metadata": {},
     "output_type": "execute_result"
    }
   ],
   "source": [
    "not_available=df[df.availability_365 == 0]\n",
    "not_available.shape"
   ]
  },
  {
   "cell_type": "markdown",
   "metadata": {},
   "source": [
    "this means **17533 data have 0 avaliability** for the future booking of airbnb. These data will be consider as the outliers and **droped** from the dataframe. \n",
    "* We also consider adding these data back by changing the availability then re-enter as **noise**. However these data will lower the **accuracy** of the true price information. We currently didn't apply and just **drop** these value in the next step."
   ]
  },
  {
   "cell_type": "code",
   "execution_count": 6,
   "metadata": {},
   "outputs": [
    {
     "data": {
      "text/html": [
       "<div>\n",
       "<style scoped>\n",
       "    .dataframe tbody tr th:only-of-type {\n",
       "        vertical-align: middle;\n",
       "    }\n",
       "\n",
       "    .dataframe tbody tr th {\n",
       "        vertical-align: top;\n",
       "    }\n",
       "\n",
       "    .dataframe thead th {\n",
       "        text-align: right;\n",
       "    }\n",
       "</style>\n",
       "<table border=\"1\" class=\"dataframe\">\n",
       "  <thead>\n",
       "    <tr style=\"text-align: right;\">\n",
       "      <th></th>\n",
       "      <th>price</th>\n",
       "      <th>minimum_nights</th>\n",
       "      <th>number_of_reviews</th>\n",
       "      <th>reviews_per_month</th>\n",
       "      <th>calculated_host_listings_count</th>\n",
       "      <th>availability_365</th>\n",
       "    </tr>\n",
       "  </thead>\n",
       "  <tbody>\n",
       "    <tr>\n",
       "      <th>count</th>\n",
       "      <td>31354.000000</td>\n",
       "      <td>31354.000000</td>\n",
       "      <td>31354.000000</td>\n",
       "      <td>26147.000000</td>\n",
       "      <td>31354.000000</td>\n",
       "      <td>31354.000000</td>\n",
       "    </tr>\n",
       "    <tr>\n",
       "      <th>mean</th>\n",
       "      <td>162.091822</td>\n",
       "      <td>8.338426</td>\n",
       "      <td>31.849365</td>\n",
       "      <td>1.810063</td>\n",
       "      <td>10.335460</td>\n",
       "      <td>175.834439</td>\n",
       "    </tr>\n",
       "    <tr>\n",
       "      <th>std</th>\n",
       "      <td>254.444750</td>\n",
       "      <td>23.838961</td>\n",
       "      <td>51.638559</td>\n",
       "      <td>1.805657</td>\n",
       "      <td>40.705488</td>\n",
       "      <td>126.195374</td>\n",
       "    </tr>\n",
       "    <tr>\n",
       "      <th>min</th>\n",
       "      <td>10.000000</td>\n",
       "      <td>1.000000</td>\n",
       "      <td>0.000000</td>\n",
       "      <td>0.010000</td>\n",
       "      <td>1.000000</td>\n",
       "      <td>1.000000</td>\n",
       "    </tr>\n",
       "    <tr>\n",
       "      <th>25%</th>\n",
       "      <td>70.000000</td>\n",
       "      <td>2.000000</td>\n",
       "      <td>2.000000</td>\n",
       "      <td>0.450000</td>\n",
       "      <td>1.000000</td>\n",
       "      <td>55.000000</td>\n",
       "    </tr>\n",
       "    <tr>\n",
       "      <th>50%</th>\n",
       "      <td>112.000000</td>\n",
       "      <td>3.000000</td>\n",
       "      <td>10.000000</td>\n",
       "      <td>1.230000</td>\n",
       "      <td>1.000000</td>\n",
       "      <td>168.000000</td>\n",
       "    </tr>\n",
       "    <tr>\n",
       "      <th>75%</th>\n",
       "      <td>189.000000</td>\n",
       "      <td>5.000000</td>\n",
       "      <td>39.000000</td>\n",
       "      <td>2.680000</td>\n",
       "      <td>3.000000</td>\n",
       "      <td>305.000000</td>\n",
       "    </tr>\n",
       "    <tr>\n",
       "      <th>max</th>\n",
       "      <td>10000.000000</td>\n",
       "      <td>1250.000000</td>\n",
       "      <td>629.000000</td>\n",
       "      <td>58.500000</td>\n",
       "      <td>327.000000</td>\n",
       "      <td>365.000000</td>\n",
       "    </tr>\n",
       "  </tbody>\n",
       "</table>\n",
       "</div>"
      ],
      "text/plain": [
       "              price  minimum_nights  number_of_reviews  reviews_per_month  \\\n",
       "count  31354.000000    31354.000000       31354.000000       26147.000000   \n",
       "mean     162.091822        8.338426          31.849365           1.810063   \n",
       "std      254.444750       23.838961          51.638559           1.805657   \n",
       "min       10.000000        1.000000           0.000000           0.010000   \n",
       "25%       70.000000        2.000000           2.000000           0.450000   \n",
       "50%      112.000000        3.000000          10.000000           1.230000   \n",
       "75%      189.000000        5.000000          39.000000           2.680000   \n",
       "max    10000.000000     1250.000000         629.000000          58.500000   \n",
       "\n",
       "       calculated_host_listings_count  availability_365  \n",
       "count                    31354.000000      31354.000000  \n",
       "mean                        10.335460        175.834439  \n",
       "std                         40.705488        126.195374  \n",
       "min                          1.000000          1.000000  \n",
       "25%                          1.000000         55.000000  \n",
       "50%                          1.000000        168.000000  \n",
       "75%                          3.000000        305.000000  \n",
       "max                        327.000000        365.000000  "
      ]
     },
     "execution_count": 6,
     "metadata": {},
     "output_type": "execute_result"
    }
   ],
   "source": [
    "df = df[df.availability_365 != 0]\n",
    "df = df[df.price != 0]\n",
    "df[[\"price\",\"minimum_nights\",\"number_of_reviews\",\"reviews_per_month\",\n",
    "    \"calculated_host_listings_count\",\"availability_365\"]].describe()"
   ]
  },
  {
   "cell_type": "markdown",
   "metadata": {},
   "source": [
    "* After we drop all the zero from the dataset, we decide to drop all the **Null Value** using ```df.dropna()``` method in side data set and use ```df.boxplot()``` method to keep analysis on the number of outliers."
   ]
  },
  {
   "cell_type": "code",
   "execution_count": 7,
   "metadata": {},
   "outputs": [
    {
     "data": {
      "text/plain": [
       "<matplotlib.axes._subplots.AxesSubplot at 0x1dbb2499128>"
      ]
     },
     "execution_count": 7,
     "metadata": {},
     "output_type": "execute_result"
    },
    {
     "data": {
      "image/png": "[encoded data removed]",
      "text/plain": [
       "<Figure size 1440x432 with 6 Axes>"
      ]
     },
     "metadata": {
      "needs_background": "light"
     },
     "output_type": "display_data"
    }
   ],
   "source": [
    "fig, ax = plt.subplots(1, 6, figsize=(20, 6))\n",
    "df.boxplot('price', ax=ax[0])\n",
    "df.boxplot('minimum_nights', ax=ax[1])\n",
    "df.boxplot('number_of_reviews', ax=ax[2])\n",
    "df.boxplot('reviews_per_month', ax=ax[3])\n",
    "df.boxplot('calculated_host_listings_count', ax=ax[4])\n",
    "df.boxplot('availability_365', ax=ax[5])"
   ]
  },
  {
   "cell_type": "markdown",
   "metadata": {},
   "source": [
    "Base on the **Boxplot**, We are able to visually recognize **every outliers** base on each individual numeric column. After discussion, we decide to use **Z-Score** and **IQR** to help us drop all the outliers from the data. This procedure was operated later in **Development of An Anonymization Approach**."
   ]
  },
  {
   "cell_type": "markdown",
   "metadata": {},
   "source": [
    "# Identification of Privacy sensitive Information"
   ]
  },
  {
   "cell_type": "markdown",
   "metadata": {},
   "source": [
    "Identify the explicit identifiers, quasi-identifiers, sensitive attributes and non-sensitive attributes. \n",
    "\n",
    "**Explicit identifiers:**  ```{'id','host_id','name','host_name'} ```\n",
    "\n",
    ">Reason: This kind of identifier allow us to classify an individual **directly or specifically**. The ```id``` can directly linked to one specific household, and the ```host_id``` and ```host_name```can directly link to a specific household owner. We suggest that ```name``` is too unique for the \n",
    "\n",
    "**Quasi-identifiers:** ```{'neighbourhood_group', 'neighbourhood','latitude', 'longitude'}```\n",
    "\n",
    ">Reason: Based on the definition of QI, it said that those identifiers that do not uniquely identify an individual in most cases but can in some instances or when combined with other quasi-identifiers. \n",
    "Those attributes cannot directly linked to one specific record in this dataset. However, if we combine some of those data, we will figure out which one is the exactly record.\n",
    "Since ```neighbourhood_group, neighbourhood, 'latitude', 'longitude'``` provide geographical information that able to identify the location of the specfic household, they are QI.\n",
    "\n",
    "**Sensitive attributes:** ``` {'price', 'calculated_most_listings_count'}```\n",
    "\n",
    ">Reason: Those records are sensitive, ```price``` contain all the financial information of household, ```calculated_most_listings_count``` able to tell the number of people that are with you together. \n",
    "\n",
    "**Non-sensitive attributes:** ```{'minimum_nights','room_type', 'number_of_reviews', 'last_review', 'reviews_per_month', 'availability_365'}```\n",
    "\n",
    ">Reason: \n",
    "```'minimum_nights','room_type', 'number_of_reviews', 'last_review', 'reviews_per_month' and 'availability_365'``` are column that didn't contain a financial information, they are available to the public for the selection of the house rental.\n"
   ]
  },
  {
   "cell_type": "markdown",
   "metadata": {},
   "source": [
    "# Development of An Anonymization  Approach"
   ]
  },
  {
   "cell_type": "markdown",
   "metadata": {},
   "source": [
    "As we mentioned before, our **main goal** is to <u>release an anonymization data that prevent personal information leaks and able to help others **understand the true quality of each rentals.**</u> \n",
    "so we want to drop every outliers in the data to make sure data can **generate proporate information**\n",
    "* Our **first step** is to manipulate and remove all the numeric column outliers from the ```dataframe```\n",
    "* K-anonymity will apply **Suppression** and remove all the **Explicit Identifiers**. Also since we are only working with **numeric** column that are **qulitative** and **discrete**. Thus we will first drop column ```{\"id\", \"host_id\",\"latitude\",\"longitude\"}```"
   ]
  },
  {
   "cell_type": "code",
   "execution_count": 8,
   "metadata": {},
   "outputs": [],
   "source": [
    "df.drop(columns=[\"id\", \"host_id\",\"latitude\",\"longitude\",], inplace=True) # dropped because unique for every row"
   ]
  },
  {
   "cell_type": "code",
   "execution_count": 9,
   "metadata": {},
   "outputs": [],
   "source": [
    "df.drop(columns=[\"number_of_reviews\",\"reviews_per_month\"], inplace=True) # dropped because unique for every row"
   ]
  },
  {
   "cell_type": "markdown",
   "metadata": {},
   "source": [
    "Next, we calculate **IQR**, figure out the range from **Q1 minus 1.5 IQR** to **Q3 plus 2 IQR**, and then delete everything that are outside of this range."
   ]
  },
  {
   "cell_type": "code",
   "execution_count": 10,
   "metadata": {},
   "outputs": [
    {
     "name": "stdout",
     "output_type": "stream",
     "text": [
      "price                             119.0\n",
      "minimum_nights                      3.0\n",
      "calculated_host_listings_count      2.0\n",
      "availability_365                  250.0\n",
      "dtype: float64\n"
     ]
    }
   ],
   "source": [
    "Q1 = df.quantile(0.25)\n",
    "Q3 = df.quantile(0.75)\n",
    "IQR = Q3 - Q1\n",
    "print(IQR)"
   ]
  },
  {
   "cell_type": "code",
   "execution_count": 11,
   "metadata": {},
   "outputs": [
    {
     "data": {
      "text/html": [
       "<div>\n",
       "<style scoped>\n",
       "    .dataframe tbody tr th:only-of-type {\n",
       "        vertical-align: middle;\n",
       "    }\n",
       "\n",
       "    .dataframe tbody tr th {\n",
       "        vertical-align: top;\n",
       "    }\n",
       "\n",
       "    .dataframe thead th {\n",
       "        text-align: right;\n",
       "    }\n",
       "</style>\n",
       "<table border=\"1\" class=\"dataframe\">\n",
       "  <thead>\n",
       "    <tr style=\"text-align: right;\">\n",
       "      <th></th>\n",
       "      <th>price</th>\n",
       "      <th>minimum_nights</th>\n",
       "      <th>calculated_host_listings_count</th>\n",
       "      <th>availability_365</th>\n",
       "    </tr>\n",
       "  </thead>\n",
       "  <tbody>\n",
       "    <tr>\n",
       "      <th>count</th>\n",
       "      <td>22664.000000</td>\n",
       "      <td>22664.000000</td>\n",
       "      <td>22664.000000</td>\n",
       "      <td>22664.000000</td>\n",
       "    </tr>\n",
       "    <tr>\n",
       "      <th>mean</th>\n",
       "      <td>125.123544</td>\n",
       "      <td>2.559875</td>\n",
       "      <td>1.692420</td>\n",
       "      <td>155.523297</td>\n",
       "    </tr>\n",
       "    <tr>\n",
       "      <th>std</th>\n",
       "      <td>73.242413</td>\n",
       "      <td>1.598944</td>\n",
       "      <td>1.146446</td>\n",
       "      <td>122.492414</td>\n",
       "    </tr>\n",
       "    <tr>\n",
       "      <th>min</th>\n",
       "      <td>10.000000</td>\n",
       "      <td>1.000000</td>\n",
       "      <td>1.000000</td>\n",
       "      <td>1.000000</td>\n",
       "    </tr>\n",
       "    <tr>\n",
       "      <th>25%</th>\n",
       "      <td>70.000000</td>\n",
       "      <td>1.000000</td>\n",
       "      <td>1.000000</td>\n",
       "      <td>42.000000</td>\n",
       "    </tr>\n",
       "    <tr>\n",
       "      <th>50%</th>\n",
       "      <td>100.000000</td>\n",
       "      <td>2.000000</td>\n",
       "      <td>1.000000</td>\n",
       "      <td>130.000000</td>\n",
       "    </tr>\n",
       "    <tr>\n",
       "      <th>75%</th>\n",
       "      <td>165.000000</td>\n",
       "      <td>3.000000</td>\n",
       "      <td>2.000000</td>\n",
       "      <td>270.000000</td>\n",
       "    </tr>\n",
       "    <tr>\n",
       "      <th>max</th>\n",
       "      <td>367.000000</td>\n",
       "      <td>9.000000</td>\n",
       "      <td>6.000000</td>\n",
       "      <td>365.000000</td>\n",
       "    </tr>\n",
       "  </tbody>\n",
       "</table>\n",
       "</div>"
      ],
      "text/plain": [
       "              price  minimum_nights  calculated_host_listings_count  \\\n",
       "count  22664.000000    22664.000000                    22664.000000   \n",
       "mean     125.123544        2.559875                        1.692420   \n",
       "std       73.242413        1.598944                        1.146446   \n",
       "min       10.000000        1.000000                        1.000000   \n",
       "25%       70.000000        1.000000                        1.000000   \n",
       "50%      100.000000        2.000000                        1.000000   \n",
       "75%      165.000000        3.000000                        2.000000   \n",
       "max      367.000000        9.000000                        6.000000   \n",
       "\n",
       "       availability_365  \n",
       "count      22664.000000  \n",
       "mean         155.523297  \n",
       "std          122.492414  \n",
       "min            1.000000  \n",
       "25%           42.000000  \n",
       "50%          130.000000  \n",
       "75%          270.000000  \n",
       "max          365.000000  "
      ]
     },
     "execution_count": 11,
     "metadata": {},
     "output_type": "execute_result"
    }
   ],
   "source": [
    "df_out = df[~((df < (Q1 - 1.5 * IQR)) |(df > (Q3 + 1.5 * IQR))).any(axis=1)]\n",
    "df_out.describe()"
   ]
  },
  {
   "cell_type": "code",
   "execution_count": 12,
   "metadata": {},
   "outputs": [
    {
     "data": {
      "text/html": [
       "<div>\n",
       "<style scoped>\n",
       "    .dataframe tbody tr th:only-of-type {\n",
       "        vertical-align: middle;\n",
       "    }\n",
       "\n",
       "    .dataframe tbody tr th {\n",
       "        vertical-align: top;\n",
       "    }\n",
       "\n",
       "    .dataframe thead th {\n",
       "        text-align: right;\n",
       "    }\n",
       "</style>\n",
       "<table border=\"1\" class=\"dataframe\">\n",
       "  <thead>\n",
       "    <tr style=\"text-align: right;\">\n",
       "      <th></th>\n",
       "      <th>name</th>\n",
       "      <th>host_name</th>\n",
       "      <th>neighbourhood_group</th>\n",
       "      <th>neighbourhood</th>\n",
       "      <th>room_type</th>\n",
       "      <th>price</th>\n",
       "      <th>minimum_nights</th>\n",
       "      <th>last_review</th>\n",
       "      <th>calculated_host_listings_count</th>\n",
       "      <th>availability_365</th>\n",
       "    </tr>\n",
       "  </thead>\n",
       "  <tbody>\n",
       "    <tr>\n",
       "      <th>0</th>\n",
       "      <td>Clean &amp; quiet apt home by the park</td>\n",
       "      <td>John</td>\n",
       "      <td>Brooklyn</td>\n",
       "      <td>Kensington</td>\n",
       "      <td>Private room</td>\n",
       "      <td>149</td>\n",
       "      <td>1</td>\n",
       "      <td>2018-10-19</td>\n",
       "      <td>6</td>\n",
       "      <td>365</td>\n",
       "    </tr>\n",
       "    <tr>\n",
       "      <th>1</th>\n",
       "      <td>Skylit Midtown Castle</td>\n",
       "      <td>Jennifer</td>\n",
       "      <td>Manhattan</td>\n",
       "      <td>Midtown</td>\n",
       "      <td>Entire home/apt</td>\n",
       "      <td>225</td>\n",
       "      <td>1</td>\n",
       "      <td>2019-05-21</td>\n",
       "      <td>2</td>\n",
       "      <td>355</td>\n",
       "    </tr>\n",
       "    <tr>\n",
       "      <th>2</th>\n",
       "      <td>THE VILLAGE OF HARLEM....NEW YORK !</td>\n",
       "      <td>Elisabeth</td>\n",
       "      <td>Manhattan</td>\n",
       "      <td>Harlem</td>\n",
       "      <td>Private room</td>\n",
       "      <td>150</td>\n",
       "      <td>3</td>\n",
       "      <td>NaN</td>\n",
       "      <td>1</td>\n",
       "      <td>365</td>\n",
       "    </tr>\n",
       "    <tr>\n",
       "      <th>3</th>\n",
       "      <td>Cozy Entire Floor of Brownstone</td>\n",
       "      <td>LisaRoxanne</td>\n",
       "      <td>Brooklyn</td>\n",
       "      <td>Clinton Hill</td>\n",
       "      <td>Entire home/apt</td>\n",
       "      <td>89</td>\n",
       "      <td>1</td>\n",
       "      <td>2019-07-05</td>\n",
       "      <td>1</td>\n",
       "      <td>194</td>\n",
       "    </tr>\n",
       "    <tr>\n",
       "      <th>5</th>\n",
       "      <td>Large Cozy 1 BR Apartment In Midtown East</td>\n",
       "      <td>Chris</td>\n",
       "      <td>Manhattan</td>\n",
       "      <td>Murray Hill</td>\n",
       "      <td>Entire home/apt</td>\n",
       "      <td>200</td>\n",
       "      <td>3</td>\n",
       "      <td>2019-06-22</td>\n",
       "      <td>1</td>\n",
       "      <td>129</td>\n",
       "    </tr>\n",
       "  </tbody>\n",
       "</table>\n",
       "</div>"
      ],
      "text/plain": [
       "                                        name    host_name neighbourhood_group  \\\n",
       "0         Clean & quiet apt home by the park         John            Brooklyn   \n",
       "1                      Skylit Midtown Castle     Jennifer           Manhattan   \n",
       "2        THE VILLAGE OF HARLEM....NEW YORK !    Elisabeth           Manhattan   \n",
       "3            Cozy Entire Floor of Brownstone  LisaRoxanne            Brooklyn   \n",
       "5  Large Cozy 1 BR Apartment In Midtown East        Chris           Manhattan   \n",
       "\n",
       "  neighbourhood        room_type  price  minimum_nights last_review  \\\n",
       "0    Kensington     Private room    149               1  2018-10-19   \n",
       "1       Midtown  Entire home/apt    225               1  2019-05-21   \n",
       "2        Harlem     Private room    150               3         NaN   \n",
       "3  Clinton Hill  Entire home/apt     89               1  2019-07-05   \n",
       "5   Murray Hill  Entire home/apt    200               3  2019-06-22   \n",
       "\n",
       "   calculated_host_listings_count  availability_365  \n",
       "0                               6               365  \n",
       "1                               2               355  \n",
       "2                               1               365  \n",
       "3                               1               194  \n",
       "5                               1               129  "
      ]
     },
     "execution_count": 12,
     "metadata": {},
     "output_type": "execute_result"
    }
   ],
   "source": [
    "df_out.head()"
   ]
  },
  {
   "cell_type": "code",
   "execution_count": 13,
   "metadata": {},
   "outputs": [
    {
     "data": {
      "text/plain": [
       "(22664, 10)"
      ]
     },
     "execution_count": 13,
     "metadata": {},
     "output_type": "execute_result"
    }
   ],
   "source": [
    "df_out.shape"
   ]
  },
  {
   "cell_type": "markdown",
   "metadata": {},
   "source": [
    "We originally have **48895** entries. After applying the outlier formula, we remain **23622** entries. \n",
    "* Now data data frame **df_out** contain all the column with index that are consider **not an outliers**. Thus we will create a new dataframe by using method ```data.iloc``` to generate a new dataframe called **train**\n",
    "* we will then drop all the ```NULL``` values from **train** dataframe and apply the anonymization process"
   ]
  },
  {
   "cell_type": "code",
   "execution_count": 14,
   "metadata": {},
   "outputs": [
    {
     "data": {
      "text/plain": [
       "(20191, 16)"
      ]
     },
     "execution_count": 14,
     "metadata": {},
     "output_type": "execute_result"
    }
   ],
   "source": [
    "train = data.iloc[df_out.index]\n",
    "train.dropna(inplace=True)\n",
    "train.shape"
   ]
  },
  {
   "cell_type": "markdown",
   "metadata": {},
   "source": [
    "We start to applying <u>**k-anonymization**</u> here. \n",
    "* Firstly, we apply <u>**suppression**</u> to the dataset by remove all the explicit identifiers. which contain column ```{'id','host_id'} ```\n",
    "* We consider the ```longitude``` and ```latitude``` as a very important **sensitive data**. Since the informaiton it generate by combine them together can directly identify the house hold location. Hence we will drop them as well.\n",
    "* Column ```name``` and ```host_name``` also are **unique** information for every row that can lead to personal information. Hence also removed.\n"
   ]
  },
  {
   "cell_type": "code",
   "execution_count": 15,
   "metadata": {},
   "outputs": [],
   "source": [
    "train.drop(columns=[\"id\",'name', \"host_id\",'host_name',\"latitude\",\n",
    "                    \"longitude\"], inplace=True) # dropped because unique for every row"
   ]
  },
  {
   "cell_type": "code",
   "execution_count": 16,
   "metadata": {},
   "outputs": [
    {
     "data": {
      "text/html": [
       "<div>\n",
       "<style scoped>\n",
       "    .dataframe tbody tr th:only-of-type {\n",
       "        vertical-align: middle;\n",
       "    }\n",
       "\n",
       "    .dataframe tbody tr th {\n",
       "        vertical-align: top;\n",
       "    }\n",
       "\n",
       "    .dataframe thead th {\n",
       "        text-align: right;\n",
       "    }\n",
       "</style>\n",
       "<table border=\"1\" class=\"dataframe\">\n",
       "  <thead>\n",
       "    <tr style=\"text-align: right;\">\n",
       "      <th></th>\n",
       "      <th>price</th>\n",
       "      <th>minimum_nights</th>\n",
       "      <th>number_of_reviews</th>\n",
       "      <th>reviews_per_month</th>\n",
       "      <th>calculated_host_listings_count</th>\n",
       "      <th>availability_365</th>\n",
       "    </tr>\n",
       "  </thead>\n",
       "  <tbody>\n",
       "    <tr>\n",
       "      <th>count</th>\n",
       "      <td>20191.000000</td>\n",
       "      <td>20191.000000</td>\n",
       "      <td>20191.000000</td>\n",
       "      <td>20191.000000</td>\n",
       "      <td>20191.000000</td>\n",
       "      <td>20191.000000</td>\n",
       "    </tr>\n",
       "    <tr>\n",
       "      <th>mean</th>\n",
       "      <td>123.764549</td>\n",
       "      <td>2.531078</td>\n",
       "      <td>43.758259</td>\n",
       "      <td>2.033443</td>\n",
       "      <td>1.707394</td>\n",
       "      <td>155.684761</td>\n",
       "    </tr>\n",
       "    <tr>\n",
       "      <th>std</th>\n",
       "      <td>72.092748</td>\n",
       "      <td>1.555419</td>\n",
       "      <td>57.852440</td>\n",
       "      <td>1.812268</td>\n",
       "      <td>1.152796</td>\n",
       "      <td>121.546095</td>\n",
       "    </tr>\n",
       "    <tr>\n",
       "      <th>min</th>\n",
       "      <td>10.000000</td>\n",
       "      <td>1.000000</td>\n",
       "      <td>1.000000</td>\n",
       "      <td>0.010000</td>\n",
       "      <td>1.000000</td>\n",
       "      <td>1.000000</td>\n",
       "    </tr>\n",
       "    <tr>\n",
       "      <th>25%</th>\n",
       "      <td>69.000000</td>\n",
       "      <td>1.000000</td>\n",
       "      <td>6.000000</td>\n",
       "      <td>0.650000</td>\n",
       "      <td>1.000000</td>\n",
       "      <td>43.000000</td>\n",
       "    </tr>\n",
       "    <tr>\n",
       "      <th>50%</th>\n",
       "      <td>100.000000</td>\n",
       "      <td>2.000000</td>\n",
       "      <td>21.000000</td>\n",
       "      <td>1.560000</td>\n",
       "      <td>1.000000</td>\n",
       "      <td>132.000000</td>\n",
       "    </tr>\n",
       "    <tr>\n",
       "      <th>75%</th>\n",
       "      <td>160.000000</td>\n",
       "      <td>3.000000</td>\n",
       "      <td>59.000000</td>\n",
       "      <td>2.980000</td>\n",
       "      <td>2.000000</td>\n",
       "      <td>269.000000</td>\n",
       "    </tr>\n",
       "    <tr>\n",
       "      <th>max</th>\n",
       "      <td>367.000000</td>\n",
       "      <td>9.000000</td>\n",
       "      <td>629.000000</td>\n",
       "      <td>20.940000</td>\n",
       "      <td>6.000000</td>\n",
       "      <td>365.000000</td>\n",
       "    </tr>\n",
       "  </tbody>\n",
       "</table>\n",
       "</div>"
      ],
      "text/plain": [
       "              price  minimum_nights  number_of_reviews  reviews_per_month  \\\n",
       "count  20191.000000    20191.000000       20191.000000       20191.000000   \n",
       "mean     123.764549        2.531078          43.758259           2.033443   \n",
       "std       72.092748        1.555419          57.852440           1.812268   \n",
       "min       10.000000        1.000000           1.000000           0.010000   \n",
       "25%       69.000000        1.000000           6.000000           0.650000   \n",
       "50%      100.000000        2.000000          21.000000           1.560000   \n",
       "75%      160.000000        3.000000          59.000000           2.980000   \n",
       "max      367.000000        9.000000         629.000000          20.940000   \n",
       "\n",
       "       calculated_host_listings_count  availability_365  \n",
       "count                    20191.000000      20191.000000  \n",
       "mean                         1.707394        155.684761  \n",
       "std                          1.152796        121.546095  \n",
       "min                          1.000000          1.000000  \n",
       "25%                          1.000000         43.000000  \n",
       "50%                          1.000000        132.000000  \n",
       "75%                          2.000000        269.000000  \n",
       "max                          6.000000        365.000000  "
      ]
     },
     "execution_count": 16,
     "metadata": {},
     "output_type": "execute_result"
    }
   ],
   "source": [
    "train.describe()"
   ]
  },
  {
   "cell_type": "markdown",
   "metadata": {},
   "source": [
    "Next we use <u>**randomization**</u> method by randomly assigning numbers to unique labels of each column.\n",
    "* Here, the method that we choose is ```'LabelEncoder'``` to assign **random numeric labels** for each string **quasi-identifiers** and string **sensitive column**."
   ]
  },
  {
   "cell_type": "code",
   "execution_count": 17,
   "metadata": {},
   "outputs": [
    {
     "data": {
      "text/plain": [
       "array(['Brooklyn', 'Manhattan', 'Queens', 'Staten Island', 'Bronx'],\n",
       "      dtype=object)"
      ]
     },
     "execution_count": 17,
     "metadata": {},
     "output_type": "execute_result"
    }
   ],
   "source": [
    "train.neighbourhood_group.unique()"
   ]
  },
  {
   "cell_type": "code",
   "execution_count": 18,
   "metadata": {},
   "outputs": [],
   "source": [
    "loc=train[\"neighbourhood_group\"].astype('str') \n",
    "from sklearn.preprocessing import LabelEncoder\n",
    "Encoder = LabelEncoder()\n",
    "Embraked_label = Encoder.fit_transform(loc)\n",
    "train[\"group_label\"] = Embraked_label"
   ]
  },
  {
   "cell_type": "code",
   "execution_count": 19,
   "metadata": {},
   "outputs": [
    {
     "data": {
      "text/html": [
       "<div>\n",
       "<style scoped>\n",
       "    .dataframe tbody tr th:only-of-type {\n",
       "        vertical-align: middle;\n",
       "    }\n",
       "\n",
       "    .dataframe tbody tr th {\n",
       "        vertical-align: top;\n",
       "    }\n",
       "\n",
       "    .dataframe thead th {\n",
       "        text-align: right;\n",
       "    }\n",
       "</style>\n",
       "<table border=\"1\" class=\"dataframe\">\n",
       "  <thead>\n",
       "    <tr style=\"text-align: right;\">\n",
       "      <th></th>\n",
       "      <th>neighbourhood_group</th>\n",
       "      <th>group_label</th>\n",
       "    </tr>\n",
       "  </thead>\n",
       "  <tbody>\n",
       "    <tr>\n",
       "      <th>48782</th>\n",
       "      <td>Manhattan</td>\n",
       "      <td>2</td>\n",
       "    </tr>\n",
       "    <tr>\n",
       "      <th>48790</th>\n",
       "      <td>Queens</td>\n",
       "      <td>3</td>\n",
       "    </tr>\n",
       "    <tr>\n",
       "      <th>48799</th>\n",
       "      <td>Staten Island</td>\n",
       "      <td>4</td>\n",
       "    </tr>\n",
       "    <tr>\n",
       "      <th>48805</th>\n",
       "      <td>Bronx</td>\n",
       "      <td>0</td>\n",
       "    </tr>\n",
       "    <tr>\n",
       "      <th>48852</th>\n",
       "      <td>Brooklyn</td>\n",
       "      <td>1</td>\n",
       "    </tr>\n",
       "  </tbody>\n",
       "</table>\n",
       "</div>"
      ],
      "text/plain": [
       "      neighbourhood_group  group_label\n",
       "48782           Manhattan            2\n",
       "48790              Queens            3\n",
       "48799       Staten Island            4\n",
       "48805               Bronx            0\n",
       "48852            Brooklyn            1"
      ]
     },
     "execution_count": 19,
     "metadata": {},
     "output_type": "execute_result"
    }
   ],
   "source": [
    "train[['neighbourhood_group','group_label']].tail()"
   ]
  },
  {
   "cell_type": "markdown",
   "metadata": {},
   "source": [
    "As Shown above, each of the unique location in column ```neighbourhood_group``` have been assign a new numeric value.\n",
    "\n",
    "Next we want to remain the untility connection between different ```neighbourhood``` and it's ```neighbourhood_group```, Thus we are going to create a sub_dataframe called ```subtrain```\n",
    "\n",
    "* we will drop all the duplicates and reset index, thus we will have a dataset that only contain all the list of unique connection between neighbor and neighborhood group"
   ]
  },
  {
   "cell_type": "code",
   "execution_count": 20,
   "metadata": {},
   "outputs": [
    {
     "data": {
      "text/html": [
       "<div>\n",
       "<style scoped>\n",
       "    .dataframe tbody tr th:only-of-type {\n",
       "        vertical-align: middle;\n",
       "    }\n",
       "\n",
       "    .dataframe tbody tr th {\n",
       "        vertical-align: top;\n",
       "    }\n",
       "\n",
       "    .dataframe thead th {\n",
       "        text-align: right;\n",
       "    }\n",
       "</style>\n",
       "<table border=\"1\" class=\"dataframe\">\n",
       "  <thead>\n",
       "    <tr style=\"text-align: right;\">\n",
       "      <th></th>\n",
       "      <th>group_label</th>\n",
       "      <th>neighbourhood</th>\n",
       "    </tr>\n",
       "  </thead>\n",
       "  <tbody>\n",
       "    <tr>\n",
       "      <th>0</th>\n",
       "      <td>1</td>\n",
       "      <td>Kensington</td>\n",
       "    </tr>\n",
       "    <tr>\n",
       "      <th>1</th>\n",
       "      <td>2</td>\n",
       "      <td>Midtown</td>\n",
       "    </tr>\n",
       "    <tr>\n",
       "      <th>2</th>\n",
       "      <td>1</td>\n",
       "      <td>Clinton Hill</td>\n",
       "    </tr>\n",
       "    <tr>\n",
       "      <th>3</th>\n",
       "      <td>2</td>\n",
       "      <td>Murray Hill</td>\n",
       "    </tr>\n",
       "    <tr>\n",
       "      <th>4</th>\n",
       "      <td>2</td>\n",
       "      <td>Hell's Kitchen</td>\n",
       "    </tr>\n",
       "  </tbody>\n",
       "</table>\n",
       "</div>"
      ],
      "text/plain": [
       "   group_label   neighbourhood\n",
       "0            1      Kensington\n",
       "1            2         Midtown\n",
       "2            1    Clinton Hill\n",
       "3            2     Murray Hill\n",
       "4            2  Hell's Kitchen"
      ]
     },
     "execution_count": 20,
     "metadata": {},
     "output_type": "execute_result"
    }
   ],
   "source": [
    "sub_train = train.copy()\n",
    "sub_train = sub_train[['group_label','neighbourhood']]\n",
    "sub_train = sub_train.drop_duplicates()\n",
    "sub_train = sub_train.reset_index(drop=True)\n",
    "sub_train.head()"
   ]
  },
  {
   "cell_type": "markdown",
   "metadata": {},
   "source": [
    "Now we want to rank different neighbourhood base on what group it have. For example, since **Kensington** is from **Brooklyn** (which is **group_label 1**), it will ranked as 1. **Clinton Hill** also from **Brooklyn**, it will rank as 2. Thus we will retain the connection."
   ]
  },
  {
   "cell_type": "code",
   "execution_count": 21,
   "metadata": {},
   "outputs": [
    {
     "data": {
      "text/html": [
       "<div>\n",
       "<style scoped>\n",
       "    .dataframe tbody tr th:only-of-type {\n",
       "        vertical-align: middle;\n",
       "    }\n",
       "\n",
       "    .dataframe tbody tr th {\n",
       "        vertical-align: top;\n",
       "    }\n",
       "\n",
       "    .dataframe thead th {\n",
       "        text-align: right;\n",
       "    }\n",
       "</style>\n",
       "<table border=\"1\" class=\"dataframe\">\n",
       "  <thead>\n",
       "    <tr style=\"text-align: right;\">\n",
       "      <th></th>\n",
       "      <th>group_label</th>\n",
       "      <th>neighbourhood</th>\n",
       "      <th>neighbourhood_label</th>\n",
       "    </tr>\n",
       "  </thead>\n",
       "  <tbody>\n",
       "    <tr>\n",
       "      <th>0</th>\n",
       "      <td>1</td>\n",
       "      <td>Kensington</td>\n",
       "      <td>1</td>\n",
       "    </tr>\n",
       "    <tr>\n",
       "      <th>1</th>\n",
       "      <td>2</td>\n",
       "      <td>Midtown</td>\n",
       "      <td>1</td>\n",
       "    </tr>\n",
       "    <tr>\n",
       "      <th>2</th>\n",
       "      <td>1</td>\n",
       "      <td>Clinton Hill</td>\n",
       "      <td>2</td>\n",
       "    </tr>\n",
       "    <tr>\n",
       "      <th>3</th>\n",
       "      <td>2</td>\n",
       "      <td>Murray Hill</td>\n",
       "      <td>2</td>\n",
       "    </tr>\n",
       "    <tr>\n",
       "      <th>4</th>\n",
       "      <td>2</td>\n",
       "      <td>Hell's Kitchen</td>\n",
       "      <td>3</td>\n",
       "    </tr>\n",
       "  </tbody>\n",
       "</table>\n",
       "</div>"
      ],
      "text/plain": [
       "   group_label   neighbourhood  neighbourhood_label\n",
       "0            1      Kensington                    1\n",
       "1            2         Midtown                    1\n",
       "2            1    Clinton Hill                    2\n",
       "3            2     Murray Hill                    2\n",
       "4            2  Hell's Kitchen                    3"
      ]
     },
     "execution_count": 21,
     "metadata": {},
     "output_type": "execute_result"
    }
   ],
   "source": [
    "sub_train['neighbourhood_label'] = sub_train.groupby('group_label')['group_label'].rank(method='first').astype(int)\n",
    "sub_train.head()"
   ]
  },
  {
   "cell_type": "code",
   "execution_count": 22,
   "metadata": {},
   "outputs": [],
   "source": [
    "train=train.merge(sub_train,on=['group_label','neighbourhood'], how='left')"
   ]
  },
  {
   "cell_type": "markdown",
   "metadata": {},
   "source": [
    "We drop the original columns called ```'neighbourhood'``` and ```'neighbourhood_group'```. "
   ]
  },
  {
   "cell_type": "code",
   "execution_count": 23,
   "metadata": {},
   "outputs": [],
   "source": [
    "train.drop(columns=[\"neighbourhood\",'neighbourhood_group'], inplace=True) # dropped because unique for every row"
   ]
  },
  {
   "cell_type": "code",
   "execution_count": 24,
   "metadata": {},
   "outputs": [
    {
     "data": {
      "text/html": [
       "<div>\n",
       "<style scoped>\n",
       "    .dataframe tbody tr th:only-of-type {\n",
       "        vertical-align: middle;\n",
       "    }\n",
       "\n",
       "    .dataframe tbody tr th {\n",
       "        vertical-align: top;\n",
       "    }\n",
       "\n",
       "    .dataframe thead th {\n",
       "        text-align: right;\n",
       "    }\n",
       "</style>\n",
       "<table border=\"1\" class=\"dataframe\">\n",
       "  <thead>\n",
       "    <tr style=\"text-align: right;\">\n",
       "      <th></th>\n",
       "      <th>room_type</th>\n",
       "      <th>price</th>\n",
       "      <th>minimum_nights</th>\n",
       "      <th>number_of_reviews</th>\n",
       "      <th>last_review</th>\n",
       "      <th>reviews_per_month</th>\n",
       "      <th>calculated_host_listings_count</th>\n",
       "      <th>availability_365</th>\n",
       "      <th>group_label</th>\n",
       "      <th>neighbourhood_label</th>\n",
       "    </tr>\n",
       "  </thead>\n",
       "  <tbody>\n",
       "    <tr>\n",
       "      <th>0</th>\n",
       "      <td>Private room</td>\n",
       "      <td>149</td>\n",
       "      <td>1</td>\n",
       "      <td>9</td>\n",
       "      <td>2018-10-19</td>\n",
       "      <td>0.21</td>\n",
       "      <td>6</td>\n",
       "      <td>365</td>\n",
       "      <td>1</td>\n",
       "      <td>1</td>\n",
       "    </tr>\n",
       "    <tr>\n",
       "      <th>1</th>\n",
       "      <td>Entire home/apt</td>\n",
       "      <td>225</td>\n",
       "      <td>1</td>\n",
       "      <td>45</td>\n",
       "      <td>2019-05-21</td>\n",
       "      <td>0.38</td>\n",
       "      <td>2</td>\n",
       "      <td>355</td>\n",
       "      <td>2</td>\n",
       "      <td>1</td>\n",
       "    </tr>\n",
       "    <tr>\n",
       "      <th>2</th>\n",
       "      <td>Entire home/apt</td>\n",
       "      <td>89</td>\n",
       "      <td>1</td>\n",
       "      <td>270</td>\n",
       "      <td>2019-07-05</td>\n",
       "      <td>4.64</td>\n",
       "      <td>1</td>\n",
       "      <td>194</td>\n",
       "      <td>1</td>\n",
       "      <td>2</td>\n",
       "    </tr>\n",
       "    <tr>\n",
       "      <th>3</th>\n",
       "      <td>Entire home/apt</td>\n",
       "      <td>200</td>\n",
       "      <td>3</td>\n",
       "      <td>74</td>\n",
       "      <td>2019-06-22</td>\n",
       "      <td>0.59</td>\n",
       "      <td>1</td>\n",
       "      <td>129</td>\n",
       "      <td>2</td>\n",
       "      <td>2</td>\n",
       "    </tr>\n",
       "    <tr>\n",
       "      <th>4</th>\n",
       "      <td>Private room</td>\n",
       "      <td>79</td>\n",
       "      <td>2</td>\n",
       "      <td>430</td>\n",
       "      <td>2019-06-24</td>\n",
       "      <td>3.47</td>\n",
       "      <td>1</td>\n",
       "      <td>220</td>\n",
       "      <td>2</td>\n",
       "      <td>3</td>\n",
       "    </tr>\n",
       "  </tbody>\n",
       "</table>\n",
       "</div>"
      ],
      "text/plain": [
       "         room_type  price  minimum_nights  number_of_reviews last_review  \\\n",
       "0     Private room    149               1                  9  2018-10-19   \n",
       "1  Entire home/apt    225               1                 45  2019-05-21   \n",
       "2  Entire home/apt     89               1                270  2019-07-05   \n",
       "3  Entire home/apt    200               3                 74  2019-06-22   \n",
       "4     Private room     79               2                430  2019-06-24   \n",
       "\n",
       "   reviews_per_month  calculated_host_listings_count  availability_365  \\\n",
       "0               0.21                               6               365   \n",
       "1               0.38                               2               355   \n",
       "2               4.64                               1               194   \n",
       "3               0.59                               1               129   \n",
       "4               3.47                               1               220   \n",
       "\n",
       "   group_label  neighbourhood_label  \n",
       "0            1                    1  \n",
       "1            2                    1  \n",
       "2            1                    2  \n",
       "3            2                    2  \n",
       "4            2                    3  "
      ]
     },
     "execution_count": 24,
     "metadata": {},
     "output_type": "execute_result"
    }
   ],
   "source": [
    "train.head()"
   ]
  },
  {
   "cell_type": "markdown",
   "metadata": {},
   "source": [
    "Next, we apply the **generalizaiton**,\n",
    "* We use the method called ```pd.qcut``` to divid this **quasi-identifiers** into **5** intervals that holds relativly equal amount of entries. \n",
    "> Why we are doing this is because directly apply <u>**K-anonymity**</u> and <u>**l-diversity**</u> on this data set is very diffcult. The data is **complex, large and high demantional**. \n",
    "\n",
    "* So our solution is try to devide the quasi-identifer column in to equal amount of record then after the combination we will have a data with sufficition anonymity and diversity."
   ]
  },
  {
   "cell_type": "code",
   "execution_count": 25,
   "metadata": {},
   "outputs": [
    {
     "data": {
      "text/html": [
       "<div>\n",
       "<style scoped>\n",
       "    .dataframe tbody tr th:only-of-type {\n",
       "        vertical-align: middle;\n",
       "    }\n",
       "\n",
       "    .dataframe tbody tr th {\n",
       "        vertical-align: top;\n",
       "    }\n",
       "\n",
       "    .dataframe thead th {\n",
       "        text-align: right;\n",
       "    }\n",
       "</style>\n",
       "<table border=\"1\" class=\"dataframe\">\n",
       "  <thead>\n",
       "    <tr style=\"text-align: right;\">\n",
       "      <th></th>\n",
       "      <th>neighbourhood_interval</th>\n",
       "      <th>neighbourhood_label</th>\n",
       "    </tr>\n",
       "  </thead>\n",
       "  <tbody>\n",
       "    <tr>\n",
       "      <th>0</th>\n",
       "      <td>(0.999, 4.0]</td>\n",
       "      <td>4241</td>\n",
       "    </tr>\n",
       "    <tr>\n",
       "      <th>1</th>\n",
       "      <td>(4.0, 8.0]</td>\n",
       "      <td>5934</td>\n",
       "    </tr>\n",
       "    <tr>\n",
       "      <th>2</th>\n",
       "      <td>(8.0, 11.0]</td>\n",
       "      <td>3063</td>\n",
       "    </tr>\n",
       "    <tr>\n",
       "      <th>3</th>\n",
       "      <td>(11.0, 15.0]</td>\n",
       "      <td>2931</td>\n",
       "    </tr>\n",
       "    <tr>\n",
       "      <th>4</th>\n",
       "      <td>(15.0, 51.0]</td>\n",
       "      <td>4022</td>\n",
       "    </tr>\n",
       "  </tbody>\n",
       "</table>\n",
       "</div>"
      ],
      "text/plain": [
       "  neighbourhood_interval  neighbourhood_label\n",
       "0           (0.999, 4.0]                 4241\n",
       "1             (4.0, 8.0]                 5934\n",
       "2            (8.0, 11.0]                 3063\n",
       "3           (11.0, 15.0]                 2931\n",
       "4           (15.0, 51.0]                 4022"
      ]
     },
     "execution_count": 25,
     "metadata": {},
     "output_type": "execute_result"
    }
   ],
   "source": [
    "train['neighbourhood_interval'] = pd.qcut(train['neighbourhood_label'], 5)\n",
    "train[['neighbourhood_interval','neighbourhood_label']].groupby(['neighbourhood_interval'], as_index=False).count()"
   ]
  },
  {
   "cell_type": "markdown",
   "metadata": {},
   "source": [
    "Next, we apply the **generalizaiton** to column ```price``` and ```number_of_reviews```:\n",
    "> Why we are doing this is because we want to also apply <u>**l-diversity**</u> to the dataset. price and review count are too unique for the diversity. Thus we will generalize to interval to keep diversity.\n",
    "\n",
    "* We use the method called ```pd.qcut``` to divid all **quasi-identifiers** into **8** intervals that holds relativly equal amount of entries. "
   ]
  },
  {
   "cell_type": "code",
   "execution_count": 26,
   "metadata": {},
   "outputs": [
    {
     "data": {
      "text/html": [
       "<div>\n",
       "<style scoped>\n",
       "    .dataframe tbody tr th:only-of-type {\n",
       "        vertical-align: middle;\n",
       "    }\n",
       "\n",
       "    .dataframe tbody tr th {\n",
       "        vertical-align: top;\n",
       "    }\n",
       "\n",
       "    .dataframe thead th {\n",
       "        text-align: right;\n",
       "    }\n",
       "</style>\n",
       "<table border=\"1\" class=\"dataframe\">\n",
       "  <thead>\n",
       "    <tr style=\"text-align: right;\">\n",
       "      <th></th>\n",
       "      <th>price_split</th>\n",
       "      <th>price</th>\n",
       "    </tr>\n",
       "  </thead>\n",
       "  <tbody>\n",
       "    <tr>\n",
       "      <th>0</th>\n",
       "      <td>(9.999, 52.0]</td>\n",
       "      <td>2547</td>\n",
       "    </tr>\n",
       "    <tr>\n",
       "      <th>1</th>\n",
       "      <td>(52.0, 69.0]</td>\n",
       "      <td>2542</td>\n",
       "    </tr>\n",
       "    <tr>\n",
       "      <th>2</th>\n",
       "      <td>(69.0, 85.0]</td>\n",
       "      <td>2704</td>\n",
       "    </tr>\n",
       "    <tr>\n",
       "      <th>3</th>\n",
       "      <td>(85.0, 100.0]</td>\n",
       "      <td>2551</td>\n",
       "    </tr>\n",
       "    <tr>\n",
       "      <th>4</th>\n",
       "      <td>(100.0, 129.0]</td>\n",
       "      <td>2290</td>\n",
       "    </tr>\n",
       "    <tr>\n",
       "      <th>5</th>\n",
       "      <td>(129.0, 160.0]</td>\n",
       "      <td>2584</td>\n",
       "    </tr>\n",
       "    <tr>\n",
       "      <th>6</th>\n",
       "      <td>(160.0, 210.0]</td>\n",
       "      <td>2507</td>\n",
       "    </tr>\n",
       "    <tr>\n",
       "      <th>7</th>\n",
       "      <td>(210.0, 367.0]</td>\n",
       "      <td>2466</td>\n",
       "    </tr>\n",
       "  </tbody>\n",
       "</table>\n",
       "</div>"
      ],
      "text/plain": [
       "      price_split  price\n",
       "0   (9.999, 52.0]   2547\n",
       "1    (52.0, 69.0]   2542\n",
       "2    (69.0, 85.0]   2704\n",
       "3   (85.0, 100.0]   2551\n",
       "4  (100.0, 129.0]   2290\n",
       "5  (129.0, 160.0]   2584\n",
       "6  (160.0, 210.0]   2507\n",
       "7  (210.0, 367.0]   2466"
      ]
     },
     "execution_count": 26,
     "metadata": {},
     "output_type": "execute_result"
    }
   ],
   "source": [
    "train['price_split'] = pd.qcut(train['price'], 8)\n",
    "train[['price_split','price']].groupby(['price_split'], as_index=False).count()"
   ]
  },
  {
   "cell_type": "code",
   "execution_count": 27,
   "metadata": {},
   "outputs": [
    {
     "data": {
      "text/html": [
       "<div>\n",
       "<style scoped>\n",
       "    .dataframe tbody tr th:only-of-type {\n",
       "        vertical-align: middle;\n",
       "    }\n",
       "\n",
       "    .dataframe tbody tr th {\n",
       "        vertical-align: top;\n",
       "    }\n",
       "\n",
       "    .dataframe thead th {\n",
       "        text-align: right;\n",
       "    }\n",
       "</style>\n",
       "<table border=\"1\" class=\"dataframe\">\n",
       "  <thead>\n",
       "    <tr style=\"text-align: right;\">\n",
       "      <th></th>\n",
       "      <th>review_split</th>\n",
       "      <th>number_of_reviews</th>\n",
       "    </tr>\n",
       "  </thead>\n",
       "  <tbody>\n",
       "    <tr>\n",
       "      <th>0</th>\n",
       "      <td>(0.999, 3.0]</td>\n",
       "      <td>3293</td>\n",
       "    </tr>\n",
       "    <tr>\n",
       "      <th>1</th>\n",
       "      <td>(3.0, 6.0]</td>\n",
       "      <td>1863</td>\n",
       "    </tr>\n",
       "    <tr>\n",
       "      <th>2</th>\n",
       "      <td>(6.0, 12.0]</td>\n",
       "      <td>2563</td>\n",
       "    </tr>\n",
       "    <tr>\n",
       "      <th>3</th>\n",
       "      <td>(12.0, 21.0]</td>\n",
       "      <td>2463</td>\n",
       "    </tr>\n",
       "    <tr>\n",
       "      <th>4</th>\n",
       "      <td>(21.0, 35.0]</td>\n",
       "      <td>2492</td>\n",
       "    </tr>\n",
       "    <tr>\n",
       "      <th>5</th>\n",
       "      <td>(35.0, 59.0]</td>\n",
       "      <td>2543</td>\n",
       "    </tr>\n",
       "    <tr>\n",
       "      <th>6</th>\n",
       "      <td>(59.0, 103.0]</td>\n",
       "      <td>2462</td>\n",
       "    </tr>\n",
       "    <tr>\n",
       "      <th>7</th>\n",
       "      <td>(103.0, 629.0]</td>\n",
       "      <td>2512</td>\n",
       "    </tr>\n",
       "  </tbody>\n",
       "</table>\n",
       "</div>"
      ],
      "text/plain": [
       "     review_split  number_of_reviews\n",
       "0    (0.999, 3.0]               3293\n",
       "1      (3.0, 6.0]               1863\n",
       "2     (6.0, 12.0]               2563\n",
       "3    (12.0, 21.0]               2463\n",
       "4    (21.0, 35.0]               2492\n",
       "5    (35.0, 59.0]               2543\n",
       "6   (59.0, 103.0]               2462\n",
       "7  (103.0, 629.0]               2512"
      ]
     },
     "execution_count": 27,
     "metadata": {},
     "output_type": "execute_result"
    }
   ],
   "source": [
    "train['review_split'] = pd.qcut(train['number_of_reviews'], 8)\n",
    "train[['review_split','number_of_reviews']].groupby(['review_split'], as_index=False).count()"
   ]
  },
  {
   "cell_type": "markdown",
   "metadata": {},
   "source": [
    "As the result Shows Above:\n",
    "* The ```price``` column have been divide in to **8 interval** with around **2500 record** in each region. \n",
    "* The ```number_of_reviews``` have been **8 interval** with around **2000 record** in each region.\n",
    "\n",
    "> We want to use these generaliation to \n",
    "\n",
    "Then We drop the orginal columns ```\"price\"``` and ```\"number_of_reviews\"```"
   ]
  },
  {
   "cell_type": "markdown",
   "metadata": {},
   "source": [
    "We drop the orginal columns called \"price' and 'number_of_reviews'."
   ]
  },
  {
   "cell_type": "code",
   "execution_count": 28,
   "metadata": {},
   "outputs": [],
   "source": [
    "train.drop(columns=[\"price\"], inplace=True)\n",
    "train.drop(columns=[\"number_of_reviews\"], inplace=True)# dropped because unique for every row"
   ]
  },
  {
   "cell_type": "markdown",
   "metadata": {},
   "source": [
    "Now we apply <u>**Differential Privacy**</u>:\n",
    "* ```'last_review'``` column is a string column contain unique date information, Hence we are gonna manipulate the information.\n",
    "* First we split the ```'last_review'``` column in to 3 new column ```{'Year','Month','Day'}```"
   ]
  },
  {
   "cell_type": "code",
   "execution_count": 29,
   "metadata": {},
   "outputs": [],
   "source": [
    "train[['Year','Month','Day']] = train[\"last_review\"].str.split(\"-\", n = 2, expand = True).astype(int)"
   ]
  },
  {
   "cell_type": "markdown",
   "metadata": {},
   "source": [
    "Then we decrease the ```Month``` column by 1.\n",
    "> We only want to **decrease by 1** is because some people will use last review date as a important **infomation to evaluate** the location. Thus we are trying to keep the data as close to the original data as possible.\n",
    "\n",
    "We also make sure that if the **month was January** before (now month will become zero since we already minus). it will set back to **last year's December.**"
   ]
  },
  {
   "cell_type": "code",
   "execution_count": 30,
   "metadata": {},
   "outputs": [],
   "source": [
    "train['Month']=train['Month']-1"
   ]
  },
  {
   "cell_type": "code",
   "execution_count": 31,
   "metadata": {},
   "outputs": [
    {
     "data": {
      "text/plain": [
       "array([ 9,  4,  6,  5, 12,  8,  2,  3,  7, 10, 11,  1], dtype=int64)"
      ]
     },
     "execution_count": 31,
     "metadata": {},
     "output_type": "execute_result"
    }
   ],
   "source": [
    "train.Month[train.Month == 0] = 12\n",
    "train.Year[train.Month == 0] -= 1\n",
    "train.Month.unique()"
   ]
  },
  {
   "cell_type": "markdown",
   "metadata": {},
   "source": [
    "Last we combined the **manipulated results** of ```'Year'``` and ```'Month'``` columns into the new column called ```'last_review_data'``` and compare with ```'last_review'``` column. "
   ]
  },
  {
   "cell_type": "code",
   "execution_count": 32,
   "metadata": {},
   "outputs": [],
   "source": [
    "train[\"last_review_date\"]=train[\"Year\"].astype('str')+\"-\"+train[\"Month\"].astype('str')"
   ]
  },
  {
   "cell_type": "code",
   "execution_count": 33,
   "metadata": {},
   "outputs": [
    {
     "data": {
      "text/html": [
       "<div>\n",
       "<style scoped>\n",
       "    .dataframe tbody tr th:only-of-type {\n",
       "        vertical-align: middle;\n",
       "    }\n",
       "\n",
       "    .dataframe tbody tr th {\n",
       "        vertical-align: top;\n",
       "    }\n",
       "\n",
       "    .dataframe thead th {\n",
       "        text-align: right;\n",
       "    }\n",
       "</style>\n",
       "<table border=\"1\" class=\"dataframe\">\n",
       "  <thead>\n",
       "    <tr style=\"text-align: right;\">\n",
       "      <th></th>\n",
       "      <th>last_review</th>\n",
       "      <th>last_review_date</th>\n",
       "    </tr>\n",
       "  </thead>\n",
       "  <tbody>\n",
       "    <tr>\n",
       "      <th>0</th>\n",
       "      <td>2018-10-19</td>\n",
       "      <td>2018-9</td>\n",
       "    </tr>\n",
       "    <tr>\n",
       "      <th>1</th>\n",
       "      <td>2019-05-21</td>\n",
       "      <td>2019-4</td>\n",
       "    </tr>\n",
       "    <tr>\n",
       "      <th>2</th>\n",
       "      <td>2019-07-05</td>\n",
       "      <td>2019-6</td>\n",
       "    </tr>\n",
       "    <tr>\n",
       "      <th>3</th>\n",
       "      <td>2019-06-22</td>\n",
       "      <td>2019-5</td>\n",
       "    </tr>\n",
       "    <tr>\n",
       "      <th>4</th>\n",
       "      <td>2019-06-24</td>\n",
       "      <td>2019-5</td>\n",
       "    </tr>\n",
       "  </tbody>\n",
       "</table>\n",
       "</div>"
      ],
      "text/plain": [
       "  last_review last_review_date\n",
       "0  2018-10-19           2018-9\n",
       "1  2019-05-21           2019-4\n",
       "2  2019-07-05           2019-6\n",
       "3  2019-06-22           2019-5\n",
       "4  2019-06-24           2019-5"
      ]
     },
     "execution_count": 33,
     "metadata": {},
     "output_type": "execute_result"
    }
   ],
   "source": [
    "train[['last_review','last_review_date']].head()"
   ]
  },
  {
   "cell_type": "markdown",
   "metadata": {},
   "source": [
    "Since we finished manipulated all the result, We drop all useless columns ```{'last_review','Year','Month','Day'} ```"
   ]
  },
  {
   "cell_type": "code",
   "execution_count": 34,
   "metadata": {},
   "outputs": [],
   "source": [
    "train.drop(columns=[\"last_review\",\"Year\",\"Month\",\"Day\"], inplace=True) # dropped because unique for every row"
   ]
  },
  {
   "cell_type": "code",
   "execution_count": 35,
   "metadata": {},
   "outputs": [
    {
     "data": {
      "text/html": [
       "<div>\n",
       "<style scoped>\n",
       "    .dataframe tbody tr th:only-of-type {\n",
       "        vertical-align: middle;\n",
       "    }\n",
       "\n",
       "    .dataframe tbody tr th {\n",
       "        vertical-align: top;\n",
       "    }\n",
       "\n",
       "    .dataframe thead th {\n",
       "        text-align: right;\n",
       "    }\n",
       "</style>\n",
       "<table border=\"1\" class=\"dataframe\">\n",
       "  <thead>\n",
       "    <tr style=\"text-align: right;\">\n",
       "      <th></th>\n",
       "      <th>room_type</th>\n",
       "      <th>minimum_nights</th>\n",
       "      <th>reviews_per_month</th>\n",
       "      <th>calculated_host_listings_count</th>\n",
       "      <th>availability_365</th>\n",
       "      <th>group_label</th>\n",
       "      <th>neighbourhood_label</th>\n",
       "      <th>neighbourhood_interval</th>\n",
       "      <th>price_split</th>\n",
       "      <th>review_split</th>\n",
       "      <th>last_review_date</th>\n",
       "    </tr>\n",
       "  </thead>\n",
       "  <tbody>\n",
       "    <tr>\n",
       "      <th>0</th>\n",
       "      <td>Private room</td>\n",
       "      <td>1</td>\n",
       "      <td>0.21</td>\n",
       "      <td>6</td>\n",
       "      <td>365</td>\n",
       "      <td>1</td>\n",
       "      <td>1</td>\n",
       "      <td>(0.999, 4.0]</td>\n",
       "      <td>(129.0, 160.0]</td>\n",
       "      <td>(6.0, 12.0]</td>\n",
       "      <td>2018-9</td>\n",
       "    </tr>\n",
       "    <tr>\n",
       "      <th>1</th>\n",
       "      <td>Entire home/apt</td>\n",
       "      <td>1</td>\n",
       "      <td>0.38</td>\n",
       "      <td>2</td>\n",
       "      <td>355</td>\n",
       "      <td>2</td>\n",
       "      <td>1</td>\n",
       "      <td>(0.999, 4.0]</td>\n",
       "      <td>(210.0, 367.0]</td>\n",
       "      <td>(35.0, 59.0]</td>\n",
       "      <td>2019-4</td>\n",
       "    </tr>\n",
       "    <tr>\n",
       "      <th>2</th>\n",
       "      <td>Entire home/apt</td>\n",
       "      <td>1</td>\n",
       "      <td>4.64</td>\n",
       "      <td>1</td>\n",
       "      <td>194</td>\n",
       "      <td>1</td>\n",
       "      <td>2</td>\n",
       "      <td>(0.999, 4.0]</td>\n",
       "      <td>(85.0, 100.0]</td>\n",
       "      <td>(103.0, 629.0]</td>\n",
       "      <td>2019-6</td>\n",
       "    </tr>\n",
       "    <tr>\n",
       "      <th>3</th>\n",
       "      <td>Entire home/apt</td>\n",
       "      <td>3</td>\n",
       "      <td>0.59</td>\n",
       "      <td>1</td>\n",
       "      <td>129</td>\n",
       "      <td>2</td>\n",
       "      <td>2</td>\n",
       "      <td>(0.999, 4.0]</td>\n",
       "      <td>(160.0, 210.0]</td>\n",
       "      <td>(59.0, 103.0]</td>\n",
       "      <td>2019-5</td>\n",
       "    </tr>\n",
       "    <tr>\n",
       "      <th>4</th>\n",
       "      <td>Private room</td>\n",
       "      <td>2</td>\n",
       "      <td>3.47</td>\n",
       "      <td>1</td>\n",
       "      <td>220</td>\n",
       "      <td>2</td>\n",
       "      <td>3</td>\n",
       "      <td>(0.999, 4.0]</td>\n",
       "      <td>(69.0, 85.0]</td>\n",
       "      <td>(103.0, 629.0]</td>\n",
       "      <td>2019-5</td>\n",
       "    </tr>\n",
       "  </tbody>\n",
       "</table>\n",
       "</div>"
      ],
      "text/plain": [
       "         room_type  minimum_nights  reviews_per_month  \\\n",
       "0     Private room               1               0.21   \n",
       "1  Entire home/apt               1               0.38   \n",
       "2  Entire home/apt               1               4.64   \n",
       "3  Entire home/apt               3               0.59   \n",
       "4     Private room               2               3.47   \n",
       "\n",
       "   calculated_host_listings_count  availability_365  group_label  \\\n",
       "0                               6               365            1   \n",
       "1                               2               355            2   \n",
       "2                               1               194            1   \n",
       "3                               1               129            2   \n",
       "4                               1               220            2   \n",
       "\n",
       "   neighbourhood_label neighbourhood_interval     price_split    review_split  \\\n",
       "0                    1           (0.999, 4.0]  (129.0, 160.0]     (6.0, 12.0]   \n",
       "1                    1           (0.999, 4.0]  (210.0, 367.0]    (35.0, 59.0]   \n",
       "2                    2           (0.999, 4.0]   (85.0, 100.0]  (103.0, 629.0]   \n",
       "3                    2           (0.999, 4.0]  (160.0, 210.0]   (59.0, 103.0]   \n",
       "4                    3           (0.999, 4.0]    (69.0, 85.0]  (103.0, 629.0]   \n",
       "\n",
       "  last_review_date  \n",
       "0           2018-9  \n",
       "1           2019-4  \n",
       "2           2019-6  \n",
       "3           2019-5  \n",
       "4           2019-5  "
      ]
     },
     "execution_count": 35,
     "metadata": {},
     "output_type": "execute_result"
    }
   ],
   "source": [
    "train.head()"
   ]
  },
  {
   "cell_type": "code",
   "execution_count": 36,
   "metadata": {},
   "outputs": [
    {
     "data": {
      "text/html": [
       "<div>\n",
       "<style scoped>\n",
       "    .dataframe tbody tr th:only-of-type {\n",
       "        vertical-align: middle;\n",
       "    }\n",
       "\n",
       "    .dataframe tbody tr th {\n",
       "        vertical-align: top;\n",
       "    }\n",
       "\n",
       "    .dataframe thead th {\n",
       "        text-align: right;\n",
       "    }\n",
       "</style>\n",
       "<table border=\"1\" class=\"dataframe\">\n",
       "  <thead>\n",
       "    <tr style=\"text-align: right;\">\n",
       "      <th></th>\n",
       "      <th>room_type</th>\n",
       "      <th>minimum_nights</th>\n",
       "      <th>reviews_per_month</th>\n",
       "      <th>calculated_host_listings_count</th>\n",
       "      <th>availability_365</th>\n",
       "      <th>group_label</th>\n",
       "      <th>neighbourhood_label</th>\n",
       "      <th>neighbourhood_interval</th>\n",
       "      <th>price_split</th>\n",
       "      <th>review_split</th>\n",
       "      <th>last_review_date</th>\n",
       "    </tr>\n",
       "  </thead>\n",
       "  <tbody>\n",
       "    <tr>\n",
       "      <th>0</th>\n",
       "      <td>Private room</td>\n",
       "      <td>1</td>\n",
       "      <td>0.21</td>\n",
       "      <td>6</td>\n",
       "      <td>365</td>\n",
       "      <td>1</td>\n",
       "      <td>1</td>\n",
       "      <td>(0.999, 4.0]</td>\n",
       "      <td>(129.0, 160.0]</td>\n",
       "      <td>(6.0, 12.0]</td>\n",
       "      <td>2018-9</td>\n",
       "    </tr>\n",
       "    <tr>\n",
       "      <th>1</th>\n",
       "      <td>Entire home/apt</td>\n",
       "      <td>1</td>\n",
       "      <td>0.38</td>\n",
       "      <td>2</td>\n",
       "      <td>355</td>\n",
       "      <td>2</td>\n",
       "      <td>1</td>\n",
       "      <td>(0.999, 4.0]</td>\n",
       "      <td>(210.0, 367.0]</td>\n",
       "      <td>(35.0, 59.0]</td>\n",
       "      <td>2019-4</td>\n",
       "    </tr>\n",
       "    <tr>\n",
       "      <th>2</th>\n",
       "      <td>Entire home/apt</td>\n",
       "      <td>1</td>\n",
       "      <td>4.64</td>\n",
       "      <td>1</td>\n",
       "      <td>194</td>\n",
       "      <td>1</td>\n",
       "      <td>2</td>\n",
       "      <td>(0.999, 4.0]</td>\n",
       "      <td>(85.0, 100.0]</td>\n",
       "      <td>(103.0, 629.0]</td>\n",
       "      <td>2019-6</td>\n",
       "    </tr>\n",
       "    <tr>\n",
       "      <th>3</th>\n",
       "      <td>Entire home/apt</td>\n",
       "      <td>3</td>\n",
       "      <td>0.59</td>\n",
       "      <td>1</td>\n",
       "      <td>129</td>\n",
       "      <td>2</td>\n",
       "      <td>2</td>\n",
       "      <td>(0.999, 4.0]</td>\n",
       "      <td>(160.0, 210.0]</td>\n",
       "      <td>(59.0, 103.0]</td>\n",
       "      <td>2019-5</td>\n",
       "    </tr>\n",
       "    <tr>\n",
       "      <th>4</th>\n",
       "      <td>Private room</td>\n",
       "      <td>2</td>\n",
       "      <td>3.47</td>\n",
       "      <td>1</td>\n",
       "      <td>220</td>\n",
       "      <td>2</td>\n",
       "      <td>3</td>\n",
       "      <td>(0.999, 4.0]</td>\n",
       "      <td>(69.0, 85.0]</td>\n",
       "      <td>(103.0, 629.0]</td>\n",
       "      <td>2019-5</td>\n",
       "    </tr>\n",
       "  </tbody>\n",
       "</table>\n",
       "</div>"
      ],
      "text/plain": [
       "         room_type  minimum_nights  reviews_per_month  \\\n",
       "0     Private room               1               0.21   \n",
       "1  Entire home/apt               1               0.38   \n",
       "2  Entire home/apt               1               4.64   \n",
       "3  Entire home/apt               3               0.59   \n",
       "4     Private room               2               3.47   \n",
       "\n",
       "   calculated_host_listings_count  availability_365  group_label  \\\n",
       "0                               6               365            1   \n",
       "1                               2               355            2   \n",
       "2                               1               194            1   \n",
       "3                               1               129            2   \n",
       "4                               1               220            2   \n",
       "\n",
       "   neighbourhood_label neighbourhood_interval     price_split    review_split  \\\n",
       "0                    1           (0.999, 4.0]  (129.0, 160.0]     (6.0, 12.0]   \n",
       "1                    1           (0.999, 4.0]  (210.0, 367.0]    (35.0, 59.0]   \n",
       "2                    2           (0.999, 4.0]   (85.0, 100.0]  (103.0, 629.0]   \n",
       "3                    2           (0.999, 4.0]  (160.0, 210.0]   (59.0, 103.0]   \n",
       "4                    3           (0.999, 4.0]    (69.0, 85.0]  (103.0, 629.0]   \n",
       "\n",
       "  last_review_date  \n",
       "0           2018-9  \n",
       "1           2019-4  \n",
       "2           2019-6  \n",
       "3           2019-5  \n",
       "4           2019-5  "
      ]
     },
     "execution_count": 36,
     "metadata": {},
     "output_type": "execute_result"
    }
   ],
   "source": [
    "train.head()"
   ]
  },
  {
   "cell_type": "markdown",
   "metadata": {},
   "source": [
    "As the informaion shows above, The dataset is still use the **original index numbers**, thus we use method to ```reset_index``` and **sort** the rows and columns. "
   ]
  },
  {
   "cell_type": "code",
   "execution_count": 37,
   "metadata": {},
   "outputs": [],
   "source": [
    "df_train = train.reset_index(drop=True)\n",
    "df_train = train [['group_label', 'neighbourhood_interval', 'price_split', 'review_split', 'room_type', 'minimum_nights', 'calculated_host_listings_count',\n",
    "                        'availability_365','last_review_date']]"
   ]
  },
  {
   "cell_type": "code",
   "execution_count": 38,
   "metadata": {},
   "outputs": [
    {
     "data": {
      "text/html": [
       "<div>\n",
       "<style scoped>\n",
       "    .dataframe tbody tr th:only-of-type {\n",
       "        vertical-align: middle;\n",
       "    }\n",
       "\n",
       "    .dataframe tbody tr th {\n",
       "        vertical-align: top;\n",
       "    }\n",
       "\n",
       "    .dataframe thead th {\n",
       "        text-align: right;\n",
       "    }\n",
       "</style>\n",
       "<table border=\"1\" class=\"dataframe\">\n",
       "  <thead>\n",
       "    <tr style=\"text-align: right;\">\n",
       "      <th></th>\n",
       "      <th>group_label</th>\n",
       "      <th>neighbourhood_interval</th>\n",
       "      <th>price_split</th>\n",
       "      <th>review_split</th>\n",
       "      <th>room_type</th>\n",
       "      <th>minimum_nights</th>\n",
       "      <th>calculated_host_listings_count</th>\n",
       "      <th>availability_365</th>\n",
       "      <th>last_review_date</th>\n",
       "    </tr>\n",
       "  </thead>\n",
       "  <tbody>\n",
       "    <tr>\n",
       "      <th>0</th>\n",
       "      <td>1</td>\n",
       "      <td>(0.999, 4.0]</td>\n",
       "      <td>(129.0, 160.0]</td>\n",
       "      <td>(6.0, 12.0]</td>\n",
       "      <td>Private room</td>\n",
       "      <td>1</td>\n",
       "      <td>6</td>\n",
       "      <td>365</td>\n",
       "      <td>2018-9</td>\n",
       "    </tr>\n",
       "    <tr>\n",
       "      <th>1</th>\n",
       "      <td>2</td>\n",
       "      <td>(0.999, 4.0]</td>\n",
       "      <td>(210.0, 367.0]</td>\n",
       "      <td>(35.0, 59.0]</td>\n",
       "      <td>Entire home/apt</td>\n",
       "      <td>1</td>\n",
       "      <td>2</td>\n",
       "      <td>355</td>\n",
       "      <td>2019-4</td>\n",
       "    </tr>\n",
       "    <tr>\n",
       "      <th>2</th>\n",
       "      <td>1</td>\n",
       "      <td>(0.999, 4.0]</td>\n",
       "      <td>(85.0, 100.0]</td>\n",
       "      <td>(103.0, 629.0]</td>\n",
       "      <td>Entire home/apt</td>\n",
       "      <td>1</td>\n",
       "      <td>1</td>\n",
       "      <td>194</td>\n",
       "      <td>2019-6</td>\n",
       "    </tr>\n",
       "    <tr>\n",
       "      <th>3</th>\n",
       "      <td>2</td>\n",
       "      <td>(0.999, 4.0]</td>\n",
       "      <td>(160.0, 210.0]</td>\n",
       "      <td>(59.0, 103.0]</td>\n",
       "      <td>Entire home/apt</td>\n",
       "      <td>3</td>\n",
       "      <td>1</td>\n",
       "      <td>129</td>\n",
       "      <td>2019-5</td>\n",
       "    </tr>\n",
       "    <tr>\n",
       "      <th>4</th>\n",
       "      <td>2</td>\n",
       "      <td>(0.999, 4.0]</td>\n",
       "      <td>(69.0, 85.0]</td>\n",
       "      <td>(103.0, 629.0]</td>\n",
       "      <td>Private room</td>\n",
       "      <td>2</td>\n",
       "      <td>1</td>\n",
       "      <td>220</td>\n",
       "      <td>2019-5</td>\n",
       "    </tr>\n",
       "  </tbody>\n",
       "</table>\n",
       "</div>"
      ],
      "text/plain": [
       "   group_label neighbourhood_interval     price_split    review_split  \\\n",
       "0            1           (0.999, 4.0]  (129.0, 160.0]     (6.0, 12.0]   \n",
       "1            2           (0.999, 4.0]  (210.0, 367.0]    (35.0, 59.0]   \n",
       "2            1           (0.999, 4.0]   (85.0, 100.0]  (103.0, 629.0]   \n",
       "3            2           (0.999, 4.0]  (160.0, 210.0]   (59.0, 103.0]   \n",
       "4            2           (0.999, 4.0]    (69.0, 85.0]  (103.0, 629.0]   \n",
       "\n",
       "         room_type  minimum_nights  calculated_host_listings_count  \\\n",
       "0     Private room               1                               6   \n",
       "1  Entire home/apt               1                               2   \n",
       "2  Entire home/apt               1                               1   \n",
       "3  Entire home/apt               3                               1   \n",
       "4     Private room               2                               1   \n",
       "\n",
       "   availability_365 last_review_date  \n",
       "0               365           2018-9  \n",
       "1               355           2019-4  \n",
       "2               194           2019-6  \n",
       "3               129           2019-5  \n",
       "4               220           2019-5  "
      ]
     },
     "execution_count": 38,
     "metadata": {},
     "output_type": "execute_result"
    }
   ],
   "source": [
    "df_train.head()"
   ]
  },
  {
   "cell_type": "markdown",
   "metadata": {},
   "source": [
    "Before we finallized the data, we want to make a check about the Anonymization of the data:\n",
    "* Base on the information below, each combination of the two quasi-identifer will have at least **17** data.\n",
    "* Thus we have **k=17** Anonymization achieved."
   ]
  },
  {
   "cell_type": "code",
   "execution_count": 39,
   "metadata": {},
   "outputs": [
    {
     "data": {
      "text/plain": [
       "17"
      ]
     },
     "execution_count": 39,
     "metadata": {},
     "output_type": "execute_result"
    }
   ],
   "source": [
    "check=train.groupby(['group_label', 'neighbourhood_interval'])['room_type'].count()\n",
    "check.min()"
   ]
  },
  {
   "cell_type": "code",
   "execution_count": 40,
   "metadata": {},
   "outputs": [
    {
     "data": {
      "text/plain": [
       "17"
      ]
     },
     "execution_count": 40,
     "metadata": {},
     "output_type": "execute_result"
    }
   ],
   "source": [
    "check=train.groupby(['group_label', 'neighbourhood_interval'])['calculated_host_listings_count'].count()\n",
    "check.min()"
   ]
  },
  {
   "cell_type": "markdown",
   "metadata": {},
   "source": [
    "* For the diversity, unfortunately, since we only have 3 different room types. the maximum diversity we will have is l=3.\n",
    "* Base on the minimum unique element in each combination of quasi-identifer, we achieved **l=2** diversity."
   ]
  },
  {
   "cell_type": "code",
   "execution_count": 41,
   "metadata": {},
   "outputs": [
    {
     "data": {
      "text/plain": [
       "2"
      ]
     },
     "execution_count": 41,
     "metadata": {},
     "output_type": "execute_result"
    }
   ],
   "source": [
    "check=train.groupby(['group_label', 'neighbourhood_interval'])['room_type'].nunique()\n",
    "check.min()"
   ]
  },
  {
   "cell_type": "markdown",
   "metadata": {},
   "source": [
    "Finally we export the data to CSV for the future use."
   ]
  },
  {
   "cell_type": "code",
   "execution_count": 46,
   "metadata": {},
   "outputs": [],
   "source": [
    "df_train.to_csv(\"Anonymization_Airbnb.csv\", index=False)"
   ]
  },
  {
   "cell_type": "markdown",
   "metadata": {},
   "source": [
    "# Analysis of  Utility Loss"
   ]
  },
  {
   "cell_type": "markdown",
   "metadata": {},
   "source": [
    "Firstly, we remove all explicit identifiersIncluding column ```{'id','host_id','name','host_name'} ``` in order to achieve K-anonymization. This prevent the user to identify the specific house hold and it's owner.\n",
    "\n",
    "On the other hand, we use label encoder to change the quasi-identifer to numeric. Although we still try to remain the connection between the quasi-identifer, the Untility is still lost."
   ]
  },
  {
   "cell_type": "markdown",
   "metadata": {},
   "source": [
    "* For example: if we use the original data, we are able to use ```groupby``` method to clearly understand the specific informtion of unique room type base on certain neighbourhood from certain group. "
   ]
  },
  {
   "cell_type": "code",
   "execution_count": 42,
   "metadata": {},
   "outputs": [
    {
     "data": {
      "text/plain": [
       "neighbourhood_group  neighbourhood\n",
       "Bronx                Allerton                      [Entire home/apt, Private room]\n",
       "                     Baychester                    [Entire home/apt, Private room]\n",
       "                     Belmont          [Private room, Shared room, Entire home/apt]\n",
       "                     Bronxdale        [Entire home/apt, Private room, Shared room]\n",
       "                     Castle Hill                   [Entire home/apt, Private room]\n",
       "Name: room_type, dtype: object"
      ]
     },
     "execution_count": 42,
     "metadata": {},
     "output_type": "execute_result"
    }
   ],
   "source": [
    "check=data.groupby(['neighbourhood_group',\"neighbourhood\"])['room_type'].unique()\n",
    "check.head()"
   ]
  },
  {
   "cell_type": "code",
   "execution_count": 43,
   "metadata": {},
   "outputs": [
    {
     "data": {
      "text/plain": [
       "group_label  neighbourhood_interval\n",
       "0            (0.999, 4.0]                           [Private room, Entire home/apt]\n",
       "             (4.0, 8.0]                [Private room, Entire home/apt, Shared room]\n",
       "             (8.0, 11.0]                            [Entire home/apt, Private room]\n",
       "             (11.0, 15.0]              [Private room, Entire home/apt, Shared room]\n",
       "             (15.0, 51.0]              [Private room, Entire home/apt, Shared room]\n",
       "Name: room_type, dtype: object"
      ]
     },
     "execution_count": 43,
     "metadata": {},
     "output_type": "execute_result"
    }
   ],
   "source": [
    "check=df_train.groupby(['group_label', 'neighbourhood_interval'])['room_type'].unique()\n",
    "check.head()"
   ]
  },
  {
   "cell_type": "markdown",
   "metadata": {},
   "source": [
    "* However, if we use the ```df_train``` data we generate. we will only able see the room type form a range of neighbourhood and we can't understand which neighbour is which. "
   ]
  },
  {
   "cell_type": "markdown",
   "metadata": {},
   "source": [
    "Also another huge untility loss is the basic descriptives (range of values, mean, frequencies, outliers or unique values, etc) ability of the original data \n",
    "* For example: we can generate all the mean from the original data base on individual need. We can also compare a price from certain place with the mean to make perdiction and analysis on the information. "
   ]
  },
  {
   "cell_type": "code",
   "execution_count": 44,
   "metadata": {},
   "outputs": [
    {
     "data": {
      "text/html": [
       "<div>\n",
       "<style scoped>\n",
       "    .dataframe tbody tr th:only-of-type {\n",
       "        vertical-align: middle;\n",
       "    }\n",
       "\n",
       "    .dataframe tbody tr th {\n",
       "        vertical-align: top;\n",
       "    }\n",
       "\n",
       "    .dataframe thead th {\n",
       "        text-align: right;\n",
       "    }\n",
       "</style>\n",
       "<table border=\"1\" class=\"dataframe\">\n",
       "  <thead>\n",
       "    <tr style=\"text-align: right;\">\n",
       "      <th></th>\n",
       "      <th>neighbourhood_group</th>\n",
       "      <th>neighbourhood</th>\n",
       "      <th>price</th>\n",
       "      <th>number_of_reviews</th>\n",
       "    </tr>\n",
       "  </thead>\n",
       "  <tbody>\n",
       "    <tr>\n",
       "      <th>0</th>\n",
       "      <td>Bronx</td>\n",
       "      <td>Allerton</td>\n",
       "      <td>87.595238</td>\n",
       "      <td>42.928571</td>\n",
       "    </tr>\n",
       "    <tr>\n",
       "      <th>1</th>\n",
       "      <td>Bronx</td>\n",
       "      <td>Baychester</td>\n",
       "      <td>75.428571</td>\n",
       "      <td>44.285714</td>\n",
       "    </tr>\n",
       "    <tr>\n",
       "      <th>2</th>\n",
       "      <td>Bronx</td>\n",
       "      <td>Belmont</td>\n",
       "      <td>77.125000</td>\n",
       "      <td>12.333333</td>\n",
       "    </tr>\n",
       "    <tr>\n",
       "      <th>3</th>\n",
       "      <td>Bronx</td>\n",
       "      <td>Bronxdale</td>\n",
       "      <td>57.105263</td>\n",
       "      <td>24.105263</td>\n",
       "    </tr>\n",
       "    <tr>\n",
       "      <th>4</th>\n",
       "      <td>Bronx</td>\n",
       "      <td>Castle Hill</td>\n",
       "      <td>63.000000</td>\n",
       "      <td>13.111111</td>\n",
       "    </tr>\n",
       "  </tbody>\n",
       "</table>\n",
       "</div>"
      ],
      "text/plain": [
       "  neighbourhood_group neighbourhood      price  number_of_reviews\n",
       "0               Bronx      Allerton  87.595238          42.928571\n",
       "1               Bronx    Baychester  75.428571          44.285714\n",
       "2               Bronx       Belmont  77.125000          12.333333\n",
       "3               Bronx     Bronxdale  57.105263          24.105263\n",
       "4               Bronx   Castle Hill  63.000000          13.111111"
      ]
     },
     "execution_count": 44,
     "metadata": {},
     "output_type": "execute_result"
    }
   ],
   "source": [
    "fin=data[['neighbourhood_group',\"neighbourhood\",'price','number_of_reviews']].groupby(['neighbourhood_group',\"neighbourhood\"], as_index=False).mean()\n",
    "fin.head()"
   ]
  },
  {
   "cell_type": "markdown",
   "metadata": {},
   "source": [
    "However base on the informaiton we have, we can only tell the amount of house hold which provide rental at a certain place. In the end we have lots huge amount of utility."
   ]
  },
  {
   "cell_type": "code",
   "execution_count": 45,
   "metadata": {},
   "outputs": [
    {
     "data": {
      "text/html": [
       "<div>\n",
       "<style scoped>\n",
       "    .dataframe tbody tr th:only-of-type {\n",
       "        vertical-align: middle;\n",
       "    }\n",
       "\n",
       "    .dataframe tbody tr th {\n",
       "        vertical-align: top;\n",
       "    }\n",
       "\n",
       "    .dataframe thead th {\n",
       "        text-align: right;\n",
       "    }\n",
       "</style>\n",
       "<table border=\"1\" class=\"dataframe\">\n",
       "  <thead>\n",
       "    <tr style=\"text-align: right;\">\n",
       "      <th></th>\n",
       "      <th>group_label</th>\n",
       "      <th>price_split</th>\n",
       "      <th>count</th>\n",
       "    </tr>\n",
       "  </thead>\n",
       "  <tbody>\n",
       "    <tr>\n",
       "      <th>0</th>\n",
       "      <td>0</td>\n",
       "      <td>(9.999, 52.0]</td>\n",
       "      <td>234</td>\n",
       "    </tr>\n",
       "    <tr>\n",
       "      <th>1</th>\n",
       "      <td>0</td>\n",
       "      <td>(52.0, 69.0]</td>\n",
       "      <td>127</td>\n",
       "    </tr>\n",
       "    <tr>\n",
       "      <th>2</th>\n",
       "      <td>0</td>\n",
       "      <td>(69.0, 85.0]</td>\n",
       "      <td>108</td>\n",
       "    </tr>\n",
       "    <tr>\n",
       "      <th>3</th>\n",
       "      <td>0</td>\n",
       "      <td>(85.0, 100.0]</td>\n",
       "      <td>74</td>\n",
       "    </tr>\n",
       "    <tr>\n",
       "      <th>4</th>\n",
       "      <td>0</td>\n",
       "      <td>(100.0, 129.0]</td>\n",
       "      <td>55</td>\n",
       "    </tr>\n",
       "    <tr>\n",
       "      <th>5</th>\n",
       "      <td>0</td>\n",
       "      <td>(129.0, 160.0]</td>\n",
       "      <td>43</td>\n",
       "    </tr>\n",
       "    <tr>\n",
       "      <th>6</th>\n",
       "      <td>0</td>\n",
       "      <td>(160.0, 210.0]</td>\n",
       "      <td>14</td>\n",
       "    </tr>\n",
       "    <tr>\n",
       "      <th>7</th>\n",
       "      <td>0</td>\n",
       "      <td>(210.0, 367.0]</td>\n",
       "      <td>15</td>\n",
       "    </tr>\n",
       "    <tr>\n",
       "      <th>8</th>\n",
       "      <td>1</td>\n",
       "      <td>(9.999, 52.0]</td>\n",
       "      <td>1182</td>\n",
       "    </tr>\n",
       "    <tr>\n",
       "      <th>9</th>\n",
       "      <td>1</td>\n",
       "      <td>(52.0, 69.0]</td>\n",
       "      <td>1200</td>\n",
       "    </tr>\n",
       "    <tr>\n",
       "      <th>10</th>\n",
       "      <td>1</td>\n",
       "      <td>(69.0, 85.0]</td>\n",
       "      <td>1240</td>\n",
       "    </tr>\n",
       "    <tr>\n",
       "      <th>11</th>\n",
       "      <td>1</td>\n",
       "      <td>(85.0, 100.0]</td>\n",
       "      <td>1145</td>\n",
       "    </tr>\n",
       "    <tr>\n",
       "      <th>12</th>\n",
       "      <td>1</td>\n",
       "      <td>(100.0, 129.0]</td>\n",
       "      <td>1018</td>\n",
       "    </tr>\n",
       "    <tr>\n",
       "      <th>13</th>\n",
       "      <td>1</td>\n",
       "      <td>(129.0, 160.0]</td>\n",
       "      <td>1165</td>\n",
       "    </tr>\n",
       "    <tr>\n",
       "      <th>14</th>\n",
       "      <td>1</td>\n",
       "      <td>(160.0, 210.0]</td>\n",
       "      <td>967</td>\n",
       "    </tr>\n",
       "  </tbody>\n",
       "</table>\n",
       "</div>"
      ],
      "text/plain": [
       "    group_label     price_split  count\n",
       "0             0   (9.999, 52.0]    234\n",
       "1             0    (52.0, 69.0]    127\n",
       "2             0    (69.0, 85.0]    108\n",
       "3             0   (85.0, 100.0]     74\n",
       "4             0  (100.0, 129.0]     55\n",
       "5             0  (129.0, 160.0]     43\n",
       "6             0  (160.0, 210.0]     14\n",
       "7             0  (210.0, 367.0]     15\n",
       "8             1   (9.999, 52.0]   1182\n",
       "9             1    (52.0, 69.0]   1200\n",
       "10            1    (69.0, 85.0]   1240\n",
       "11            1   (85.0, 100.0]   1145\n",
       "12            1  (100.0, 129.0]   1018\n",
       "13            1  (129.0, 160.0]   1165\n",
       "14            1  (160.0, 210.0]    967"
      ]
     },
     "execution_count": 45,
     "metadata": {},
     "output_type": "execute_result"
    }
   ],
   "source": [
    "fin=df_train[['group_label','price_split','review_split']].groupby(['group_label','price_split'], as_index=False).count()\n",
    "fin=fin.rename(columns={\"review_split\": \"count\"})\n",
    "fin.head(15)"
   ]
  }
 ],
 "metadata": {
  "kernelspec": {
   "display_name": "Python 3",
   "language": "python",
   "name": "python3"
  },
  "language_info": {
   "codemirror_mode": {
    "name": "ipython",
    "version": 3
   },
   "file_extension": ".py",
   "mimetype": "text/x-python",
   "name": "python",
   "nbconvert_exporter": "python",
   "pygments_lexer": "ipython3",
   "version": "3.7.3"
  }
 },
 "nbformat": 4,
 "nbformat_minor": 2
}
